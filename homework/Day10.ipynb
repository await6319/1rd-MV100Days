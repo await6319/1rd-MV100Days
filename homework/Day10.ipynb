{
 "cells": [
  {
   "cell_type": "code",
   "execution_count": 1,
   "metadata": {},
   "outputs": [],
   "source": [
    "import cv2\n",
    "import numpy as np\n",
    "\n",
    "# 以灰階方式讀入圖片\n",
    "img_path = \"D:/lena.png\"\n",
    "img_query = cv2.imread(\"D:/lena.png\", 0)\n",
    "img_train = cv2.imread('D:/len_full.jpg', 0)\n",
    "img_query = cv2.resize(img_query, None, fx=1.2, fy=1.2)  \n",
    "img_train = cv2.resize(img_train, None, fx=1.2, fy=1.2)  \n",
    "# 建立 SIFT 物件\n",
    "sift = cv2.xfeatures2d_SIFT.create()\n",
    "\n",
    "# 偵測並計算 SIFT 特徵 (keypoints 關鍵點, descriptor 128 維敘述子)\n",
    "kp_query, des_query = sift.detectAndCompute(img_query, None)\n",
    "kp_train, des_train = sift.detectAndCompute(img_train, None)\n",
    "\n",
    "# 建立 Brute-Force Matching 物件\n",
    "bf = cv2.BFMatcher(cv2.NORM_L2)\n",
    "\n",
    "# 以 knn 方式暴力比對特徵\n",
    "matches = bf.knnMatch(des_query, des_train, k=2)\n",
    "\n",
    "# 透過 D.Lowe ratio test 排除不適合的配對\n",
    "candidate = []\n",
    "for m, n in matches:\n",
    "    if m.distance < 0.75*n.distance:\n",
    "        candidate.append([m])\n",
    "\n",
    "# 顯示配對結果\n",
    "img_show = cv2.drawMatchesKnn(img_query, kp_query, img_train, kp_train, candidate, None, flags=2)\n",
    "\n",
    "# 顯示圖片\n",
    "while True:\n",
    "    cv2.imshow('matches', img_show)\n",
    "    k = cv2.waitKey(0)\n",
    "    if k == 27:\n",
    "        cv2.destroyAllWindows()\n",
    "        break"
   ]
  },
  {
   "cell_type": "code",
   "execution_count": null,
   "metadata": {},
   "outputs": [],
   "source": []
  }
 ],
 "metadata": {
  "kernelspec": {
   "display_name": "Python 3",
   "language": "python",
   "name": "python3"
  },
  "language_info": {
   "codemirror_mode": {
    "name": "ipython",
    "version": 3
   },
   "file_extension": ".py",
   "mimetype": "text/x-python",
   "name": "python",
   "nbconvert_exporter": "python",
   "pygments_lexer": "ipython3",
   "version": "3.6.5"
  }
 },
 "nbformat": 4,
 "nbformat_minor": 2
}
